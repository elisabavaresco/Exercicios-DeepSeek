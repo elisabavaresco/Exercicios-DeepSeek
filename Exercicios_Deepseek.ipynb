{
  "nbformat": 4,
  "nbformat_minor": 0,
  "metadata": {
    "colab": {
      "provenance": [],
      "authorship_tag": "ABX9TyMDVkX3N39mYkG6TRwlixmU",
      "include_colab_link": true
    },
    "kernelspec": {
      "name": "python3",
      "display_name": "Python 3"
    },
    "language_info": {
      "name": "python"
    }
  },
  "cells": [
    {
      "cell_type": "markdown",
      "metadata": {
        "id": "view-in-github",
        "colab_type": "text"
      },
      "source": [
        "<a href=\"https://colab.research.google.com/github/elisabavaresco/Exercicios-DeepSeek/blob/main/Exercicios_Deepseek.ipynb\" target=\"_parent\"><img src=\"https://colab.research.google.com/assets/colab-badge.svg\" alt=\"Open In Colab\"/></a>"
      ]
    },
    {
      "cell_type": "markdown",
      "source": [
        "# Exercício 1 (Fácil)\n",
        "Crie um programa que peça dois números ao usuário e imprima a soma deles."
      ],
      "metadata": {
        "id": "KAw1nl6k-iIx"
      }
    },
    {
      "cell_type": "code",
      "execution_count": 1,
      "metadata": {
        "colab": {
          "base_uri": "https://localhost:8080/"
        },
        "id": "PK09ZQ2v-YLy",
        "outputId": "315fe680-9386-4875-df25-e1f193a23b36"
      },
      "outputs": [
        {
          "output_type": "stream",
          "name": "stdout",
          "text": [
            "Qual o valor de X?5\n",
            "Qual o valor de Y?4\n",
            "9\n"
          ]
        }
      ],
      "source": [
        "x = int(input(\"Qual o valor de X?\"))\n",
        "y = int(input(\"Qual o valor de Y?\"))\n",
        "\n",
        "print(x + y)"
      ]
    },
    {
      "cell_type": "code",
      "source": [
        "# Resolução DeepSeek\n",
        "\n",
        "num1 = float(input(\"Digite o primeiro número: \"))\n",
        "num2 = float(input(\"Digite o segundo número: \"))\n",
        "print(\"Soma:\", num1 + num2)"
      ],
      "metadata": {
        "id": "huS_fh6gz-b0"
      },
      "execution_count": null,
      "outputs": []
    },
    {
      "cell_type": "markdown",
      "source": [
        "# Exercício 2 (Fácil)\n",
        "Peça um número ao usuário e verifique se ele é par ou ímpar."
      ],
      "metadata": {
        "id": "TTl6Yyor_H3t"
      }
    },
    {
      "cell_type": "code",
      "source": [
        "num = int(input(\"Digite um número e direi se é par ou ímpar:\"))\n",
        "\n",
        "if num % 2 == 1:\n",
        "  print(\"Ímpar\")\n",
        "else:\n",
        "  print (\"Par\")"
      ],
      "metadata": {
        "colab": {
          "base_uri": "https://localhost:8080/"
        },
        "id": "pZOfJUma_NPb",
        "outputId": "80bc78b2-33ac-4ade-b13b-d9645b6fccea"
      },
      "execution_count": 6,
      "outputs": [
        {
          "output_type": "stream",
          "name": "stdout",
          "text": [
            "Digite um número e direi se é par ou ímpar:7\n",
            "Ímpar\n"
          ]
        }
      ]
    },
    {
      "cell_type": "code",
      "source": [
        "# Resolução DeepSeek\n",
        "\n",
        "numero = int(input(\"Digite um número: \"))\n",
        "print(\"Par\" if numero % 2 == 0 else \"Ímpar\")"
      ],
      "metadata": {
        "id": "Edl7mkRkz8uA"
      },
      "execution_count": null,
      "outputs": []
    },
    {
      "cell_type": "markdown",
      "source": [
        "# Exercício 3 (Fácil)\n",
        "Solicite o nome e a idade do usuário.\n",
        "\n",
        "Depois, imprima:\n",
        "\"Olá, [nome]! Você tem [idade] anos.\""
      ],
      "metadata": {
        "id": "5OeEp5sDAL8Z"
      }
    },
    {
      "cell_type": "code",
      "source": [
        "name = input(\"Digite o seu nome:\")\n",
        "age = int(input(\"Digite a sua idade:\"))\n",
        "\n",
        "print(f\"Olá,{name}! Você tem {age} anos.\")"
      ],
      "metadata": {
        "colab": {
          "base_uri": "https://localhost:8080/"
        },
        "id": "-gcJCPKWAQXz",
        "outputId": "21487e6b-6143-43a4-d209-7eb5ed044e32"
      },
      "execution_count": 7,
      "outputs": [
        {
          "output_type": "stream",
          "name": "stdout",
          "text": [
            "Digite o seu nome:Estêvão\n",
            "Digite a sua idade:29\n",
            "Olá,Estêvão! Você tem 29 anos.\n"
          ]
        }
      ]
    },
    {
      "cell_type": "code",
      "source": [
        "# Resolução DeepSeek\n",
        "\n",
        "nome = input(\"Digite seu nome: \")\n",
        "idade = int(input(\"Digite sua idade: \"))\n",
        "print(f\"Olá, {nome}! Você tem {idade} anos.\")"
      ],
      "metadata": {
        "id": "oWXE1V2mz7ER"
      },
      "execution_count": null,
      "outputs": []
    },
    {
      "cell_type": "markdown",
      "source": [
        "# Exercício 4 (Fácil-Médio)\n",
        "Converta a temperatura de Celsius para Fahrenheit usando a fórmula:\n",
        "\n",
        "F = (C × 9/5) + 32\n",
        "\n",
        "(O usuário deve inserir a temperatura em Celsius)."
      ],
      "metadata": {
        "id": "4Dztyry6A9jO"
      }
    },
    {
      "cell_type": "code",
      "source": [
        "celsius = int(input(\"Qual a temperatura em Celsius?\"))\n",
        "\n",
        "fahrenheit = (celsius * 9 / 5) + 32\n",
        "\n",
        "print(f\"A temperatura convertida para Fahrenheit é {fahrenheit}\")"
      ],
      "metadata": {
        "colab": {
          "base_uri": "https://localhost:8080/"
        },
        "id": "o7Zrk3yyBDpj",
        "outputId": "0a12b981-80cc-4588-dd27-e5f4567feb38"
      },
      "execution_count": 8,
      "outputs": [
        {
          "output_type": "stream",
          "name": "stdout",
          "text": [
            "Qual a temperatura em Celsius?30\n",
            "A temperatura convertida para Fahrenheit é 86.0\n"
          ]
        }
      ]
    },
    {
      "cell_type": "code",
      "source": [
        "# Resolução DeepSeek\n",
        "\n",
        "celsius = float(input(\"Digite a temperatura em Celsius: \"))\n",
        "fahrenheit = (celsius * 9/5) + 32\n",
        "print(f\"{celsius}°C equivale a {fahrenheit}°F\")"
      ],
      "metadata": {
        "id": "O0ulVaJLz4E9"
      },
      "execution_count": null,
      "outputs": []
    },
    {
      "cell_type": "markdown",
      "source": [
        "# Exercício 5 (Médio)\n",
        "Peça uma string ao usuário e:\n",
        "\n",
        "Verifique se ela tem mais de 5 caracteres.\n",
        "\n",
        "Conte quantas vogais (a, e, i, o, u) ela possui."
      ],
      "metadata": {
        "id": "wFIJfTi2BwsU"
      }
    },
    {
      "cell_type": "code",
      "source": [
        "user_input = input(\"Escreva um texto com no mínimo 5 caracteres:\")\n",
        "\n",
        "total_vowels = 0\n",
        "\n",
        "if len(user_input) < 5:\n",
        "  print(\"Número de caracteres insuficientes\")\n",
        "else:\n",
        "  for letter in user_input.lower():\n",
        "    if \"a\" == letter or \"e\" == letter or \"i\" == letter or \"o\" == letter or \"u\" == letter:\n",
        "      total_vowels = total_vowels + 1\n",
        "  print(total_vowels)"
      ],
      "metadata": {
        "colab": {
          "base_uri": "https://localhost:8080/"
        },
        "id": "bR41iSUOCJbP",
        "outputId": "b490cc12-2231-4abd-d1a0-b4e3ba3db585"
      },
      "execution_count": 16,
      "outputs": [
        {
          "output_type": "stream",
          "name": "stdout",
          "text": [
            "Escreva um texto com no mínimo 5 caracteres:O serviço do Google, oferecido sem custo financeiro, traduz instantaneamente palavras, frases e páginas da Web do português para mais de cem outros idiomas.\n",
            "57\n"
          ]
        }
      ]
    },
    {
      "cell_type": "code",
      "source": [
        "# Resolução DeepSeek\n",
        "\n",
        "texto = input(\"Digite uma palavra: \")\n",
        "print(\"Tem mais de 5 caracteres?\", len(texto) > 5)\n",
        "\n",
        "vogais = sum(1 for letra in texto.lower() if letra in \"aeiou\")\n",
        "print(\"Quantidade de vogais:\", vogais)"
      ],
      "metadata": {
        "id": "5JTtEz_Oz2vT"
      },
      "execution_count": null,
      "outputs": []
    },
    {
      "cell_type": "markdown",
      "source": [
        "# Exercício 6 (Médio)\n",
        "Crie uma calculadora simples que permita:\n",
        "\n",
        "Soma, subtração, multiplicação ou divisão.\n",
        "\n",
        "O usuário deve escolher a operação e inserir dois números."
      ],
      "metadata": {
        "id": "Cv5YUkemIYuy"
      }
    },
    {
      "cell_type": "code",
      "source": [
        "# math_ops = [\"soma\", \"subtração\", \"multiplicação\", \"divisão\"]\n",
        "\n",
        "# math_op_user = input(f\"Escolha uma operação matemática:{math_ops}\")\n",
        "# num1_user = int(input(\"Digite o primeiro número: \"))\n",
        "# num2_user = int(input(\"Digite o segundo número: \"))\n",
        "\n",
        "# if math_op_user.lower() in math_ops[0]:\n",
        "#   print(num1_user + num2_user)\n",
        "# elif math_op_user.lower() in math_ops[1]:\n",
        "#   print(num1_user - num2_user)\n",
        "# elif math_op_user.lower() in math_ops[2]:\n",
        "#   print(num1_user * num2_user)\n",
        "# elif math_op_user.lower() in math_ops[3]:\n",
        "#   print(num1_user / num2_user)\n",
        "# else:\n",
        "#   print(\"Operação não encontrada\")"
      ],
      "metadata": {
        "colab": {
          "base_uri": "https://localhost:8080/"
        },
        "id": "Jd25r8mxJQPs",
        "outputId": "9d914780-8e17-474d-8092-5f2c998c8ed1"
      },
      "execution_count": 21,
      "outputs": [
        {
          "output_type": "stream",
          "name": "stdout",
          "text": [
            "Escolha uma operação matemática:['soma', 'subtração', 'multiplicação', 'divisão']divisão\n",
            "Digite o primeiro número: 6\n",
            "Digite o segundo número: 3\n",
            "2.0\n"
          ]
        }
      ]
    },
    {
      "cell_type": "code",
      "source": [
        "def sum(a: int, b: int):\n",
        "  return a + b\n",
        "\n",
        "def sub(a: int, b: int):\n",
        "  return a - b\n",
        "\n",
        "def mult(a: int, b: int):\n",
        "  return a * b\n",
        "\n",
        "def div(a: int, b: int):\n",
        "  return a / b\n",
        "\n",
        "math_ops = {\"soma\": sum, \"subtração\": sub, \"multiplicação\": mult, \"divisão\": div}\n",
        "\n",
        "math_op_user = input(f\"Escolha uma operação matemática:{math_ops.keys()}\")\n",
        "\n",
        "if math_op_user.lower() not in math_ops.keys():\n",
        "  print(\"Operação não encontrada\")\n",
        "else:\n",
        "  num1_user = int(input(\"Digite o primeiro número: \"))\n",
        "  num2_user = int(input(\"Digite o segundo número: \"))\n",
        "  print(math_ops[math_op_user.lower()](num1_user, num2_user))"
      ],
      "metadata": {
        "colab": {
          "base_uri": "https://localhost:8080/"
        },
        "id": "18eGEjtHM7H9",
        "outputId": "1a43266d-2861-4a42-9b85-51a77c8b119d"
      },
      "execution_count": 26,
      "outputs": [
        {
          "output_type": "stream",
          "name": "stdout",
          "text": [
            "Escolha uma operação matemática:dict_keys(['soma', 'subtração', 'multiplicação', 'divisão'])DIVIsão\n",
            "Digite o primeiro número: 10\n",
            "Digite o segundo número: 2\n",
            "5.0\n"
          ]
        }
      ]
    },
    {
      "cell_type": "code",
      "source": [
        "# Resolução DeepSeek\n",
        "\n",
        "num1 = float(input(\"Digite o primeiro número: \"))\n",
        "operacao = input(\"Digite a operação (+, -, *, /): \")\n",
        "num2 = float(input(\"Digite o segundo número: \"))\n",
        "\n",
        "if operacao == \"+\":\n",
        "    resultado = num1 + num2\n",
        "elif operacao == \"-\":\n",
        "    resultado = num1 - num2\n",
        "elif operacao == \"*\":\n",
        "    resultado = num1 * num2\n",
        "elif operacao == \"/\":\n",
        "    resultado = num1 / num2 if num2 != 0 else \"Erro: divisão por zero\"\n",
        "else:\n",
        "    resultado = \"Operação inválida\"\n",
        "\n",
        "print(\"Resultado:\", resultado)"
      ],
      "metadata": {
        "id": "Jnbm4XGEzbH3"
      },
      "execution_count": null,
      "outputs": []
    },
    {
      "cell_type": "markdown",
      "source": [
        "# Exercício 7 (Médio-Difícil)\n",
        "Solicite um número e:\n",
        "\n",
        "Se for divisível por 3, imprima \"Fizz\".\n",
        "\n",
        "Se for divisível por 5, imprima \"Buzz\".\n",
        "\n",
        "Se for divisível por ambos, imprima \"FizzBuzz\"."
      ],
      "metadata": {
        "id": "qWFq295CR8xo"
      }
    },
    {
      "cell_type": "code",
      "source": [
        "num_user = int(input(\"Escreva um número inteiro: \"))\n",
        "\n",
        "if num_user % 3 == 0 and num_user % 5 == 0:\n",
        "  print(\"FizzBuzz\")\n",
        "elif num_user % 3 == 0:\n",
        "  print(\"Fizz\")\n",
        "elif num_user % 5 == 0:\n",
        "  print(\"Buzz\")"
      ],
      "metadata": {
        "colab": {
          "base_uri": "https://localhost:8080/"
        },
        "id": "0lmAqDRkR_Gn",
        "outputId": "a4cc5429-de8b-40c0-cec7-f2fb473e8af9"
      },
      "execution_count": 37,
      "outputs": [
        {
          "output_type": "stream",
          "name": "stdout",
          "text": [
            "Escreva um número inteiro: 15\n",
            "FizzBuzz\n"
          ]
        }
      ]
    },
    {
      "cell_type": "code",
      "source": [
        "# Resolução DeepSeek\n",
        "\n",
        "numero = int(input(\"Digite um número: \"))\n",
        "\n",
        "if numero % 3 == 0 and numero % 5 == 0:\n",
        "    print(\"FizzBuzz\")\n",
        "elif numero % 3 == 0:\n",
        "    print(\"Fizz\")\n",
        "elif numero % 5 == 0:\n",
        "    print(\"Buzz\")\n",
        "else:\n",
        "    print(numero)"
      ],
      "metadata": {
        "id": "99fJ2ADJz0bi"
      },
      "execution_count": null,
      "outputs": []
    },
    {
      "cell_type": "markdown",
      "source": [
        "# Exercício 8 (Difícil)\n",
        "Peça ao usuário uma frase e:\n",
        "\n",
        "Inverta a frase (ex: \"Python\" → \"nohtyP\").\n",
        "\n",
        "Conte quantas palavras existem nela (use .split()).\n",
        "\n"
      ],
      "metadata": {
        "id": "vBHlfxSzfgeQ"
      }
    },
    {
      "cell_type": "code",
      "source": [
        "string_input = input(\"Escreva uma frase: \")\n",
        "words = string_input.split(\" \")\n",
        "print(len(words))\n",
        "for word in list(reversed(words)):\n",
        "  print(\"\".join(sorted(word, reverse=True)))"
      ],
      "metadata": {
        "colab": {
          "base_uri": "https://localhost:8080/"
        },
        "id": "NipWxOpnfmck",
        "outputId": "891380e0-63ce-42d8-9650-9486c79a1ffe"
      },
      "execution_count": 77,
      "outputs": [
        {
          "output_type": "stream",
          "name": "stdout",
          "text": [
            "Escreva uma frase: Eu amo a Elisa\n",
            "4\n",
            "sliaE\n",
            "a\n",
            "oma\n",
            "uE\n",
            "Digite uma frase: Eu amo a Elisa\n",
            "Frase invertida: asilE a oma uE\n",
            "Quantidade de palavras: 4\n"
          ]
        }
      ]
    },
    {
      "cell_type": "code",
      "source": [
        "# Resolução DeepSeek\n",
        "\n",
        "# Solicita a frase do usuário\n",
        "frase = input(\"Digite uma frase: \")\n",
        "\n",
        "# Inverte a frase\n",
        "frase_invertida = frase[::-1]\n",
        "\n",
        "# Conta as palavras (split divide nos espaços)\n",
        "quantidade_palavras = len(frase.split())\n",
        "\n",
        "# Exibe os resultados\n",
        "print(f\"Frase invertida: {frase_invertida}\")\n",
        "print(f\"Quantidade de palavras: {quantidade_palavras}\")"
      ],
      "metadata": {
        "id": "Sod7DvACzybQ"
      },
      "execution_count": null,
      "outputs": []
    },
    {
      "cell_type": "markdown",
      "source": [
        "# Exercício 9 (Difícil)\n",
        "Gere um número aleatório entre 1 e 100 e peça ao usuário para adivinhar.\n",
        "\n",
        "Dê dicas como \"Muito alto\" ou \"Muito baixo\" até ele acertar."
      ],
      "metadata": {
        "id": "Tl9MUPkNjzXg"
      }
    },
    {
      "cell_type": "code",
      "source": [
        "import random\n",
        "random_int = random.randint(1, 100)\n",
        "# print(random_int)\n",
        "\n",
        "while True:\n",
        "  user_guess = int(input(\"Chute o número entre 1 e 100 que estou pensando: \"))\n",
        "  if user_guess == random_int:\n",
        "    print(\"Você acertou o número!\")\n",
        "    break\n",
        "  elif user_guess > random_int:\n",
        "    print(\"Muito Alto, tente novamente\")\n",
        "  elif user_guess < random_int:\n",
        "    print(\"Muito Baixo, tente novamente\")"
      ],
      "metadata": {
        "colab": {
          "base_uri": "https://localhost:8080/"
        },
        "id": "a771b6epj2yE",
        "outputId": "913f7d14-3846-4239-e01f-a9174ca7b337"
      },
      "execution_count": 53,
      "outputs": [
        {
          "output_type": "stream",
          "name": "stdout",
          "text": [
            "14\n",
            "Chute o número entre 1 e 100 que estou pensando: 10\n",
            "Muito Baixo, tente novamente\n",
            "Chute o número entre 1 e 100 que estou pensando: 2\n",
            "Muito Baixo, tente novamente\n",
            "Chute o número entre 1 e 100 que estou pensando: 13\n",
            "Muito Baixo, tente novamente\n",
            "Chute o número entre 1 e 100 que estou pensando: 15\n",
            "Muito Alto, tente novamente\n",
            "Chute o número entre 1 e 100 que estou pensando: 14\n",
            "Você acertou o número!\n"
          ]
        }
      ]
    },
    {
      "cell_type": "code",
      "source": [
        "# Resolução DeepSeek\n",
        "\n",
        "import random\n",
        "\n",
        "numero_secreto = random.randint(1, 100)\n",
        "tentativa = None\n",
        "\n",
        "while tentativa != numero_secreto:\n",
        "    tentativa = int(input(\"Adivinhe o número (1-100): \"))\n",
        "\n",
        "    if tentativa > numero_secreto:\n",
        "        print(\"Muito alto!\")\n",
        "    elif tentativa < numero_secreto:\n",
        "        print(\"Muito baixo!\")\n",
        "\n",
        "print(\"Acertou!\")"
      ],
      "metadata": {
        "id": "PWz29Hlbzvt6"
      },
      "execution_count": null,
      "outputs": []
    },
    {
      "cell_type": "markdown",
      "source": [
        "# Exercício 10 (Desafio)\n",
        "Crie um programa que simule um cadastro de usuário, pedindo:\n",
        "\n",
        "Nome (mínimo 3 caracteres).\n",
        "\n",
        "Senha (mínimo 6 caracteres, com pelo menos 1 número).\n",
        "\n",
        "Idade (entre 18 e 120 anos).\n",
        "Valide cada entrada e mostre mensagens de erro específicas."
      ],
      "metadata": {
        "id": "SGXcaWm-mvj-"
      }
    },
    {
      "cell_type": "code",
      "source": [
        "while True:\n",
        "  user_name = input(\"Insira o seu nome: \")\n",
        "  if len(user_name) < 3:\n",
        "    print(\"Número de caracteres insuficientes, favor inserir no mínimo 3 caracteres\")\n",
        "  else:\n",
        "    print(f\"Nome '{user_name}' registrado\")\n",
        "    break\n",
        "\n",
        "while True:\n",
        "  user_password = input(\"Defina uma senha com no mínimo 6 caracteres e um número: \")\n",
        "  if len(user_password) < 6 or not any(char.isdigit() for char in user_password):\n",
        "    print(\"Senha inválida, favor definir uma senha com no mínimo 6 caracteres e um número: \")\n",
        "  else:\n",
        "    print(f\"Senha '{user_password}' registrada\")\n",
        "    break\n",
        "\n",
        "while True:\n",
        "  user_age = int(input(\"Insira a sua idade: \"))\n",
        "  if user_age < 18 or user_age > 120:\n",
        "    print(\"Idade não permitida, você precisa ter mais de 18 anos e menos de 120: \")\n",
        "  else:\n",
        "    print(f\"Idade '{user_age}' registrada\")\n",
        "    break"
      ],
      "metadata": {
        "colab": {
          "base_uri": "https://localhost:8080/"
        },
        "id": "lMdDfxt0myTb",
        "outputId": "4e46f8cd-e55f-4e52-a395-7e46a6eda247"
      },
      "execution_count": 64,
      "outputs": [
        {
          "output_type": "stream",
          "name": "stdout",
          "text": [
            "Insira o seu nome: Elisa\n",
            "Nome 'Elisa' registrado\n",
            "Defina uma senha com no mínimo 6 caracteres e um número: Elisa1234\n",
            "Senha 'Elisa1234' registrada\n",
            "Insira a sua idade: 34\n",
            "Idade '34' registrada\n"
          ]
        }
      ]
    },
    {
      "cell_type": "code",
      "source": [
        "# Resolução DeepSeek\n",
        "\n",
        "while True:\n",
        "    nome = input(\"Digite seu nome (mín. 3 caracteres): \")\n",
        "    if len(nome) >= 3:\n",
        "        break\n",
        "    print(\"Nome muito curto!\")\n",
        "\n",
        "while True:\n",
        "    senha = input(\"Digite sua senha (mín. 6 caracteres e 1 número): \")\n",
        "    if len(senha) >= 6 and any(c.isdigit() for c in senha):\n",
        "        break\n",
        "    print(\"Senha inválida!\")\n",
        "\n",
        "while True:\n",
        "    idade = int(input(\"Digite sua idade (18-120): \"))\n",
        "    if 18 <= idade <= 120:\n",
        "        break\n",
        "    print(\"Idade fora do intervalo!\")\n",
        "\n",
        "print(\"Cadastro concluído!\")"
      ],
      "metadata": {
        "id": "RaqALYN9ztTO"
      },
      "execution_count": null,
      "outputs": []
    }
  ]
}